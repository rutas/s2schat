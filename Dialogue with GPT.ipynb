{
 "cells": [
  {
   "cell_type": "markdown",
   "id": "75aa4cd4",
   "metadata": {},
   "source": [
    "Language practicing app using GPT API.\n",
    "\n",
    "user voice input => speech 2 text (speech_recognition) => GPT chat API => text 2 speech (pyttsx3) => loop"
   ]
  },
  {
   "cell_type": "code",
   "execution_count": 9,
   "id": "746a77eb",
   "metadata": {},
   "outputs": [],
   "source": [
    "import os\n",
    "import re\n",
    "import openai\n",
    "import json\n",
    "from IPython.display import Markdown\n",
    "import speech_recognition as sr\n",
    "import time\n",
    "import pyttsx3\n"
   ]
  },
  {
   "cell_type": "code",
   "execution_count": 10,
   "id": "055a92d8",
   "metadata": {},
   "outputs": [],
   "source": [
    "openai.organization = os.environ['OPENAI_ORGANIZATION']\n",
    "openai.api_key = os.environ['OPENAI_API_KEY']"
   ]
  },
  {
   "cell_type": "code",
   "execution_count": 11,
   "id": "d7a99d06",
   "metadata": {},
   "outputs": [],
   "source": [
    "def color_print(s, color='black', weight='400'):\n",
    "    display (Markdown(f'<span style=\"color: {color}; font-weight: {weight}\">{s}</span>'))\n",
    "    \n",
    "def system_message(s):\n",
    "    color_print(s, color='DarkGreen', weight=500)\n",
    "\n",
    "def assistant_message(s):\n",
    "    color_print(s, color='Coral', weight=500)\n",
    "\n",
    "def user_message(s):\n",
    "    color_print(s, color='Black', weight=500)\n",
    "    \n",
    "def debug_message(s):\n",
    "    color_print(s, color='DarkTurquoise', weight=500)"
   ]
  },
  {
   "cell_type": "code",
   "execution_count": 12,
   "id": "7cf42d27",
   "metadata": {},
   "outputs": [],
   "source": [
    "def remove_non_japanese_letters(text):\n",
    "    return re.sub('[a-zA-Z0-9()!?！？（） \\'\"]', '', text)\n",
    "\n",
    "def output(content, output_mode='audio', language='English', rate=200):\n",
    "    if output_mode=='audio':\n",
    "        engine = pyttsx3.init()\n",
    "\n",
    "        engine.setProperty('rate', rate)\n",
    "\n",
    "        voices = engine.getProperty('voices') \n",
    "        if language == 'English':\n",
    "            engine.setProperty('voice', 'com.apple.speech.synthesis.voice.samantha')  \n",
    "        elif language == 'Japanese':\n",
    "            engine.setProperty('voice', 'com.apple.speech.synthesis.voice.kyoko')  \n",
    "            content = remove_non_japanese_letters(content)\n",
    "        engine.say(content)\n",
    "        engine.runAndWait()\n",
    "\n",
    "    return content\n",
    "\n",
    "def get_input(input_mode='audio', language='English', timeout=5, pause=2):\n",
    "    if input_mode == 'text':\n",
    "        return input()\n",
    "    elif input_mode == 'audio':\n",
    "        def get_audio_input():\n",
    "            r = sr.Recognizer()\n",
    "            mic = sr.Microphone()\n",
    "            with mic as source:\n",
    "                r.adjust_for_ambient_noise(source)\n",
    "                if language == 'English':\n",
    "                    system_message('waiting for microphone input(say \"quit\" to quit):')\n",
    "                elif language == 'Japanese':\n",
    "                    system_message('waiting for microphone input(say \"終了\" to quit):')\n",
    "                audio = r.listen(source, timeout=timeout)\n",
    "            if language == 'English':\n",
    "                text = r.recognize_google(audio)\n",
    "            elif language == 'Japanese':\n",
    "                text = r.recognize_google(audio, language='ja')\n",
    "            return text\n",
    "        text = None\n",
    "        while text is None:\n",
    "            try:\n",
    "                text = get_audio_input()\n",
    "            except Exception as e:\n",
    "                system_message('failed to get microphone input. Trying again..')\n",
    "                time.sleep(pause)\n",
    "        user_message(text)\n",
    "        return text\n",
    "    else:\n",
    "        raise f'input_mode {input_mode} not supported'\n"
   ]
  },
  {
   "cell_type": "code",
   "execution_count": 13,
   "id": "94674244",
   "metadata": {},
   "outputs": [],
   "source": [
    "def pick_topic(language='English'):\n",
    "    system_message(\"let's pick a topic!\")\n",
    "    prompt = f'''List 5 random topics to talk about. Topics should be in {language}. Each topic should be short like within 3 words in the JSON list format like following:\n",
    "    [\"best vacation spots\",\n",
    "     \"favorite book character\",\n",
    "     \"go-to comfort food\",\n",
    "     \"dream job fantasy\",\n",
    "     \"bucket list activities\"]\n",
    "    '''\n",
    "    completion = openai.ChatCompletion.create(model=\"gpt-3.5-turbo\", \n",
    "                                              messages=[{\"role\": \"user\", \"content\": prompt}])\n",
    "    topics_cands = json.loads(completion['choices'][0]['message'].to_dict()['content'])\n",
    "    system_message(f'topic_list: \\n {topics_cands}')  \n",
    "    system_message('select a topic from the list above or input your own topic:')\n",
    "    user_input = input()\n",
    "    try:\n",
    "        num = int(user_input)\n",
    "        if 1 <= num <= 5:\n",
    "            topic = topics_cands[num-1]\n",
    "        else:\n",
    "            topic = user_input\n",
    "    except Exception as e:\n",
    "        topic = user_input\n",
    "    return topic\n",
    "\n",
    "def conversation(topic, language='English', temperature=1.0, len_limit=10, input_mode='audio', output_mode='text', debug=False, pause=2):\n",
    "    total_tokens = 0\n",
    "\n",
    "    initial_system_input = f\"\"\"You are a helpful assistant and you are going to have a conversation with the user in {language}!\n",
    "    Keep your reponses short enough to sound like a natural dialogue.\n",
    "    User's goal is to practice speaking, so please guide the user in the conversation and try to ask many questions to the user.\n",
    "    \"\"\"\n",
    "    if input_mode == 'audio':\n",
    "        initial_system_input += 'The user uses audio input, so the contents given from the user sometimes are unrecognizable. Just ignore such parts and try to keep the flow of the conversation.'\n",
    "    if language == 'Japanese':\n",
    "        initial_system_input += 'Give an English translation after your reponse. Please put furigana right after every Kanji you use.'\n",
    "    initial_prompt = f\"Let's talk about {topic}!\"\n",
    "    messages = [\n",
    "        {'role': 'system', 'content': initial_system_input},\n",
    "        {'role': 'user', 'content': initial_prompt}\n",
    "    ]\n",
    "\n",
    "    system_message(f'topic: {topic}')\n",
    "    while True:\n",
    "        completion = openai.ChatCompletion.create(model=\"gpt-3.5-turbo\", \n",
    "                                                  messages=messages, temperature=temperature)\n",
    "        assistant_response = completion['choices'][0]['message']\n",
    "        assistant_response_content = completion['choices'][0]['message']['content']\n",
    "\n",
    "        assistant_message(assistant_response_content)\n",
    "        if output_mode == 'audio':\n",
    "            output(assistant_response_content, output_mode=output_mode, language=language)\n",
    "        if output_mode != 'audio':\n",
    "            time.sleep(pause)\n",
    "\n",
    "        tokens = completion['usage']['total_tokens']\n",
    "        total_tokens += tokens\n",
    "\n",
    "        user_response_content = get_input(input_mode=input_mode, language=language, pause=pause)\n",
    "        \n",
    "        if 'quit' in user_response_content or '終了' in user_response_content:\n",
    "            break\n",
    "        user_response = {'role': 'user', 'content': user_response_content}\n",
    "\n",
    "        messages.append(assistant_response)\n",
    "        messages.append(user_response)\n",
    "        if debug:\n",
    "            debug_message(messages)\n",
    "        if len(messages) >= len_limit:\n",
    "            # drop earlier 2 messages but keep the first 4 (probably important) messages.\n",
    "            messages = messages[:4] + messages[6:]\n",
    "\n",
    "    system_message(f'conversation ended. tokens used={total_tokens}')\n"
   ]
  },
  {
   "cell_type": "code",
   "execution_count": 14,
   "id": "92f63c08",
   "metadata": {},
   "outputs": [
    {
     "data": {
      "text/markdown": [
       "<span style=\"color: DarkGreen; font-weight: 500\">let's pick a topic!</span>"
      ],
      "text/plain": [
       "<IPython.core.display.Markdown object>"
      ]
     },
     "metadata": {},
     "output_type": "display_data"
    },
    {
     "data": {
      "text/markdown": [
       "<span style=\"color: DarkGreen; font-weight: 500\">topic_list: \n",
       " ['famous landmarks', 'popular TV shows', 'hobbies and interests', 'favorite childhood memory', 'innovative technology']</span>"
      ],
      "text/plain": [
       "<IPython.core.display.Markdown object>"
      ]
     },
     "metadata": {},
     "output_type": "display_data"
    },
    {
     "data": {
      "text/markdown": [
       "<span style=\"color: DarkGreen; font-weight: 500\">select a topic from the list above or input your own topic:</span>"
      ],
      "text/plain": [
       "<IPython.core.display.Markdown object>"
      ]
     },
     "metadata": {},
     "output_type": "display_data"
    },
    {
     "name": "stdout",
     "output_type": "stream",
     "text": [
      "5\n"
     ]
    },
    {
     "data": {
      "text/markdown": [
       "<span style=\"color: DarkGreen; font-weight: 500\">topic: innovative technology</span>"
      ],
      "text/plain": [
       "<IPython.core.display.Markdown object>"
      ]
     },
     "metadata": {},
     "output_type": "display_data"
    },
    {
     "data": {
      "text/markdown": [
       "<span style=\"color: Coral; font-weight: 500\">Great! What kind of innovative technology are you interested in?</span>"
      ],
      "text/plain": [
       "<IPython.core.display.Markdown object>"
      ]
     },
     "metadata": {},
     "output_type": "display_data"
    },
    {
     "data": {
      "text/markdown": [
       "<span style=\"color: DarkGreen; font-weight: 500\">waiting for microphone input(say \"quit\" to quit):</span>"
      ],
      "text/plain": [
       "<IPython.core.display.Markdown object>"
      ]
     },
     "metadata": {},
     "output_type": "display_data"
    },
    {
     "data": {
      "text/markdown": [
       "<span style=\"color: Black; font-weight: 500\">I think recent chat chat AIS like Chachi BT I really invited and I think they will change the world</span>"
      ],
      "text/plain": [
       "<IPython.core.display.Markdown object>"
      ]
     },
     "metadata": {},
     "output_type": "display_data"
    },
    {
     "data": {
      "text/markdown": [
       "<span style=\"color: Coral; font-weight: 500\">Yes, chatbots and AI assistants like ChattyBot and Siri are certainly innovative technologies that are changing the way we interact with machines. Have you used any of these chatbots before?</span>"
      ],
      "text/plain": [
       "<IPython.core.display.Markdown object>"
      ]
     },
     "metadata": {},
     "output_type": "display_data"
    },
    {
     "data": {
      "text/markdown": [
       "<span style=\"color: DarkGreen; font-weight: 500\">waiting for microphone input(say \"quit\" to quit):</span>"
      ],
      "text/plain": [
       "<IPython.core.display.Markdown object>"
      ]
     },
     "metadata": {},
     "output_type": "display_data"
    },
    {
     "data": {
      "text/markdown": [
       "<span style=\"color: Black; font-weight: 500\">Yes actually this is the fact that we are making this conversation is that I'm using the chat GPT now precisely speaking GPT 3.5</span>"
      ],
      "text/plain": [
       "<IPython.core.display.Markdown object>"
      ]
     },
     "metadata": {},
     "output_type": "display_data"
    },
    {
     "data": {
      "text/markdown": [
       "<span style=\"color: Coral; font-weight: 500\">Interesting! GPT-3 is one of the most powerful language models out there right now. How do you find using it as a chatbot? Do you think it's a convenient tool for communication?</span>"
      ],
      "text/plain": [
       "<IPython.core.display.Markdown object>"
      ]
     },
     "metadata": {},
     "output_type": "display_data"
    },
    {
     "data": {
      "text/markdown": [
       "<span style=\"color: DarkGreen; font-weight: 500\">waiting for microphone input(say \"quit\" to quit):</span>"
      ],
      "text/plain": [
       "<IPython.core.display.Markdown object>"
      ]
     },
     "metadata": {},
     "output_type": "display_data"
    },
    {
     "data": {
      "text/markdown": [
       "<span style=\"color: Black; font-weight: 500\">quit</span>"
      ],
      "text/plain": [
       "<IPython.core.display.Markdown object>"
      ]
     },
     "metadata": {},
     "output_type": "display_data"
    },
    {
     "data": {
      "text/markdown": [
       "<span style=\"color: DarkGreen; font-weight: 500\">conversation ended. tokens used=595</span>"
      ],
      "text/plain": [
       "<IPython.core.display.Markdown object>"
      ]
     },
     "metadata": {},
     "output_type": "display_data"
    }
   ],
   "source": [
    "language = 'English'\n",
    "topic = pick_topic(language=language)\n",
    "conversation(topic, language=language, input_mode='audio', output_mode='audio', debug=False)"
   ]
  }
 ],
 "metadata": {
  "kernelspec": {
   "display_name": "Python 3 (ipykernel)",
   "language": "python",
   "name": "python3"
  },
  "language_info": {
   "codemirror_mode": {
    "name": "ipython",
    "version": 3
   },
   "file_extension": ".py",
   "mimetype": "text/x-python",
   "name": "python",
   "nbconvert_exporter": "python",
   "pygments_lexer": "ipython3",
   "version": "3.9.9"
  }
 },
 "nbformat": 4,
 "nbformat_minor": 5
}
